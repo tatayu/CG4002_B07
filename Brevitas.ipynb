{
 "cells": [
  {
   "cell_type": "code",
   "execution_count": 1,
   "metadata": {},
   "outputs": [],
   "source": [
    "import numpy as np\n",
    "import torch\n",
    "from brevitas import nn\n",
    "from brevitas.core.quant import QuantType\n",
    "from sklearn.preprocessing import Normalizer\n",
    "import brevitas.onnx\n",
    "import os\n",
    "import joblib"
   ]
  },
  {
   "cell_type": "code",
   "execution_count": 2,
   "metadata": {},
   "outputs": [],
   "source": [
    "class SimpleMLP(torch.nn.Module):\n",
    "    def __init__(self, input_size, output_size):\n",
    "        super(SimpleMLP, self).__init__()\n",
    "        self.input_size = input_size\n",
    "        self.output_size = output_size\n",
    "        self.fc = torch.nn.Linear(1,1)\n",
    "        self.relu = torch.nn.ReLU() # instead of Heaviside step fn\n",
    "\n",
    "    def forward(self, x):\n",
    "        output = self.fc(x)\n",
    "        output = self.relu(x)\n",
    "        return output"
   ]
  },
  {
   "cell_type": "code",
   "execution_count": 3,
   "metadata": {},
   "outputs": [
    {
     "data": {
      "text/plain": [
       "SimpleMLP(\n",
       "  (fc): Linear(in_features=1, out_features=1, bias=True)\n",
       "  (relu): ReLU()\n",
       ")"
      ]
     },
     "execution_count": 3,
     "metadata": {},
     "output_type": "execute_result"
    }
   ],
   "source": [
    "model = SimpleMLP(2, 10)\n",
    "criterion = torch.nn.BCELoss()\n",
    "optimizer = torch.optim.SGD(model.parameters(), lr = 0.01)\n",
    "\n",
    "model.eval()"
   ]
  },
  {
   "cell_type": "code",
   "execution_count": 4,
   "metadata": {},
   "outputs": [
    {
     "ename": "NameError",
     "evalue": "name 'Feedforward' is not defined",
     "output_type": "error",
     "traceback": [
      "\u001b[1;31m---------------------------------------------------------------------------\u001b[0m",
      "\u001b[1;31mNameError\u001b[0m                                 Traceback (most recent call last)",
      "\u001b[1;32m<ipython-input-4-aa697aa6047d>\u001b[0m in \u001b[0;36m<module>\u001b[1;34m\u001b[0m\n\u001b[1;32m----> 1\u001b[1;33m \u001b[0mmodel\u001b[0m \u001b[1;33m=\u001b[0m \u001b[0mFeedforward\u001b[0m\u001b[1;33m(\u001b[0m\u001b[1;36m2\u001b[0m\u001b[1;33m,\u001b[0m \u001b[1;36m10\u001b[0m\u001b[1;33m)\u001b[0m\u001b[1;33m\u001b[0m\u001b[1;33m\u001b[0m\u001b[0m\n\u001b[0m\u001b[0;32m      2\u001b[0m \u001b[0mcriterion\u001b[0m \u001b[1;33m=\u001b[0m \u001b[0mtorch\u001b[0m\u001b[1;33m.\u001b[0m\u001b[0mnn\u001b[0m\u001b[1;33m.\u001b[0m\u001b[0mBCELoss\u001b[0m\u001b[1;33m(\u001b[0m\u001b[1;33m)\u001b[0m\u001b[1;33m\u001b[0m\u001b[1;33m\u001b[0m\u001b[0m\n\u001b[0;32m      3\u001b[0m \u001b[0moptimizer\u001b[0m \u001b[1;33m=\u001b[0m \u001b[0mtorch\u001b[0m\u001b[1;33m.\u001b[0m\u001b[0moptim\u001b[0m\u001b[1;33m.\u001b[0m\u001b[0mSGD\u001b[0m\u001b[1;33m(\u001b[0m\u001b[0mmodel\u001b[0m\u001b[1;33m.\u001b[0m\u001b[0mparameters\u001b[0m\u001b[1;33m(\u001b[0m\u001b[1;33m)\u001b[0m\u001b[1;33m,\u001b[0m \u001b[0mlr\u001b[0m \u001b[1;33m=\u001b[0m \u001b[1;36m0.01\u001b[0m\u001b[1;33m)\u001b[0m\u001b[1;33m\u001b[0m\u001b[1;33m\u001b[0m\u001b[0m\n\u001b[0;32m      4\u001b[0m \u001b[1;33m\u001b[0m\u001b[0m\n\u001b[0;32m      5\u001b[0m \u001b[0mmodel\u001b[0m\u001b[1;33m.\u001b[0m\u001b[0meval\u001b[0m\u001b[1;33m(\u001b[0m\u001b[1;33m)\u001b[0m\u001b[1;33m\u001b[0m\u001b[1;33m\u001b[0m\u001b[0m\n",
      "\u001b[1;31mNameError\u001b[0m: name 'Feedforward' is not defined"
     ]
    }
   ],
   "source": [
    "model = Feedforward(2, 10)\n",
    "criterion = torch.nn.BCELoss()\n",
    "optimizer = torch.optim.SGD(model.parameters(), lr = 0.01)\n",
    "\n",
    "model.eval()\n",
    "y_pred = model(x_test)\n",
    "before_train = criterion(y_pred.squeeze(), y_test)\n",
    "print('Test loss before training' , before_train.item())\n",
    "\n",
    "model.train()\n",
    "epoch = 20\n",
    "for epoch in range(epoch):\n",
    "    optimizer.zero_grad()\n",
    "    # Forward pass\n",
    "    y_pred = model(x_train)\n",
    "    # Compute Loss\n",
    "    loss = criterion(y_pred.squeeze(), y_train)\n",
    "   \n",
    "    print('Epoch {}: train loss: {}'.format(epoch, loss.item()))\n",
    "    # Backward pass\n",
    "    loss.backward()\n",
    "    optimizer.step()"
   ]
  },
  {
   "cell_type": "code",
   "execution_count": 1,
   "metadata": {},
   "outputs": [
    {
     "name": "stdout",
     "output_type": "stream",
     "text": [
      "Requirement already satisfied: brevitas in c:\\users\\leegu\\anaconda3\\lib\\site-packages (0.2.1)\n",
      "Requirement already satisfied: typing-extensions>=3.7.4 in c:\\users\\leegu\\anaconda3\\lib\\site-packages (from brevitas) (3.7.4.3)\n",
      "Requirement already satisfied: dependencies==2.0.1 in c:\\users\\leegu\\anaconda3\\lib\\site-packages (from brevitas) (2.0.1)\n",
      "Requirement already satisfied: setuptools in c:\\users\\leegu\\anaconda3\\lib\\site-packages (from brevitas) (45.2.0.post20200210)\n",
      "Requirement already satisfied: packaging in c:\\users\\leegu\\anaconda3\\lib\\site-packages (from brevitas) (20.1)\n",
      "Requirement already satisfied: torch>=1.1.0 in c:\\users\\leegu\\anaconda3\\lib\\site-packages (from brevitas) (1.7.0)\n",
      "Requirement already satisfied: six in c:\\users\\leegu\\appdata\\roaming\\python\\python37\\site-packages (from packaging->brevitas) (1.14.0)\n",
      "Requirement already satisfied: pyparsing>=2.0.2 in c:\\users\\leegu\\anaconda3\\lib\\site-packages (from packaging->brevitas) (2.4.6)\n",
      "Requirement already satisfied: future in c:\\users\\leegu\\anaconda3\\lib\\site-packages (from torch>=1.1.0->brevitas) (0.18.2)\n",
      "Requirement already satisfied: dataclasses in c:\\users\\leegu\\anaconda3\\lib\\site-packages (from torch>=1.1.0->brevitas) (0.6)\n",
      "Requirement already satisfied: numpy in c:\\users\\leegu\\anaconda3\\lib\\site-packages (from torch>=1.1.0->brevitas) (1.19.5)\n",
      "Collecting onnx\n",
      "  Downloading onnx-1.8.1-cp37-cp37m-win_amd64.whl (6.9 MB)\n",
      "Requirement already satisfied: numpy>=1.16.6 in c:\\users\\leegu\\anaconda3\\lib\\site-packages (from onnx) (1.19.5)\n",
      "Requirement already satisfied: six in c:\\users\\leegu\\appdata\\roaming\\python\\python37\\site-packages (from onnx) (1.14.0)\n",
      "Requirement already satisfied: typing-extensions>=3.6.2.1 in c:\\users\\leegu\\anaconda3\\lib\\site-packages (from onnx) (3.7.4.3)\n",
      "Requirement already satisfied: protobuf in c:\\users\\leegu\\appdata\\roaming\\python\\python37\\site-packages (from onnx) (3.12.2)\n",
      "Requirement already satisfied: setuptools in c:\\users\\leegu\\anaconda3\\lib\\site-packages (from protobuf->onnx) (45.2.0.post20200210)\n",
      "Installing collected packages: onnx\n",
      "Successfully installed onnx-1.8.1\n"
     ]
    }
   ],
   "source": [
    "!pip install brevitas\n",
    "!pip install onnx"
   ]
  },
  {
   "cell_type": "markdown",
   "metadata": {},
   "source": [
    "The five steps in the life-cycle are as follows:\n",
    "\n",
    "1. Prepare the Data.\n",
    "2. Define the Model.\n",
    "3. Train the Model.\n",
    "4. Evaluate the Model.\n",
    "5. Make Predictions."
   ]
  },
  {
   "cell_type": "code",
   "execution_count": null,
   "metadata": {},
   "outputs": [],
   "source": [
    "# dataset definition\n",
    "class CSVDataset(Dataset):\n",
    "    # load the dataset\n",
    "    def __init__(self, path):\n",
    "        # store the inputs and outputs\n",
    "        self.X = ...\n",
    "        self.y = ...\n",
    "\n",
    "    # number of rows in the dataset\n",
    "    def __len__(self):\n",
    "        return len(self.X)\n",
    "\n",
    "    # get a row at an index\n",
    "    def __getitem__(self, idx):\n",
    "        return [self.X[idx], self.y[idx]]"
   ]
  },
  {
   "cell_type": "code",
   "execution_count": null,
   "metadata": {},
   "outputs": [],
   "source": [
    "# create the dataset\n",
    "dataset = CSVDataset(...)\n",
    "# select rows from the dataset\n",
    "train, test = random_split(dataset, [[...], [...]])\n",
    "# create a data loader for train and test sets\n",
    "train_dl = DataLoader(train, batch_size=32, shuffle=True)\n",
    "test_dl = DataLoader(test, batch_size=1024, shuffle=False)"
   ]
  },
  {
   "cell_type": "code",
   "execution_count": null,
   "metadata": {},
   "outputs": [],
   "source": [
    "# train the model\n",
    "for i, (inputs, targets) in enumerate(train_dl):\n",
    "    break"
   ]
  },
  {
   "cell_type": "code",
   "execution_count": null,
   "metadata": {},
   "outputs": [],
   "source": [
    "# model definition\n",
    "class MLP(Module):\n",
    "    # define model elements\n",
    "    def __init__(self, n_inputs):\n",
    "        super(MLP, self).__init__()\n",
    "        self.layer = Linear(n_inputs, 1)\n",
    "        self.activation = Sigmoid()\n",
    "\n",
    "    # forward propagate input\n",
    "    def forward(self, X):\n",
    "        X = self.layer(X)\n",
    "        X = self.activation(X)\n",
    "        return X"
   ]
  },
  {
   "cell_type": "code",
   "execution_count": null,
   "metadata": {},
   "outputs": [],
   "source": [
    "# define the optimization\n",
    "criterion = MSELoss()\n",
    "optimizer = SGD(model.parameters(), lr=0.01, momentum=0.9)"
   ]
  },
  {
   "cell_type": "code",
   "execution_count": null,
   "metadata": {},
   "outputs": [],
   "source": [
    "# enumerate epochs\n",
    "for epoch in range(100):\n",
    "    # enumerate mini batches\n",
    "    for i, (inputs, targets) in enumerate(train_dl):\n",
    "        break"
   ]
  },
  {
   "cell_type": "code",
   "execution_count": null,
   "metadata": {},
   "outputs": [],
   "source": [
    "# clear the gradients\n",
    "optimizer.zero_grad()\n",
    "# compute the model output\n",
    "yhat = model(inputs)\n",
    "# calculate loss\n",
    "loss = criterion(yhat, targets)\n",
    "# credit assignment\n",
    "loss.backward()\n",
    "# update model weights\n",
    "optimizer.step()"
   ]
  },
  {
   "cell_type": "code",
   "execution_count": null,
   "metadata": {},
   "outputs": [],
   "source": [
    "for i, (inputs, targets) in enumerate(test_dl):\n",
    "    # evaluate the model on the test set\n",
    "    yhat = model(inputs)\n",
    "    break"
   ]
  },
  {
   "cell_type": "code",
   "execution_count": null,
   "metadata": {},
   "outputs": [],
   "source": [
    "# convert row to data\n",
    "row = Variable(Tensor([row]).float())\n",
    "# make prediction\n",
    "yhat = model(row)\n",
    "# retrieve numpy array\n",
    "yhat = yhat.detach().numpy()"
   ]
  },
  {
   "cell_type": "code",
   "execution_count": null,
   "metadata": {},
   "outputs": [],
   "source": [
    "def eval_model(model, criterion, optimizer, dataloader, start=0, end=0):\n",
    "    model.eval()\n",
    "    criterion = torch.nn.CrossEntropyLoss()\n",
    "    preds = []\n",
    "    truths = []\n",
    "    if start == end:\n",
    "        start = 0\n",
    "        end = len(dataloader)\n",
    "    with torch.no_grad():\n",
    "        for i, (data, label) in enumerate(dataloader):\n",
    "            if i >= start and i < end:\n",
    "                out = model(data)\n",
    "                loss = criterion(out, torch.max(label, 1)[1])\n",
    "                preds.append(np.argmax(out))\n",
    "                truths.append(np.argmax(label))\n",
    "    return confusion_matrix(truths, preds), accuracy_score(truths, preds), f1_score(truths, preds, average='weighted')"
   ]
  },
  {
   "cell_type": "code",
   "execution_count": null,
   "metadata": {},
   "outputs": [],
   "source": [
    "class MultiHead4MLP(torch.nn.Module):\n",
    "    def __init__(self, input_size, output_size):\n",
    "        super(MultiHead4MLP, self).__init__()\n",
    "        self.input_size = int(input_size/4)\n",
    "        self.relu = qnn.QuantReLU(bit_width=2, max_val=4)\n",
    "        self.fc1a = qnn.QuantLinear(\n",
    "            self.input_size, 128, bias=True, weight_bit_width=2)\n",
    "        self.fc1b = qnn.QuantLinear(\n",
    "            self.input_size, 128, bias=True, weight_bit_width=2)\n",
    "        self.fc1c = qnn.QuantLinear(\n",
    "            self.input_size, 128, bias=True, weight_bit_width=2)\n",
    "        self.fc1d = qnn.QuantLinear(\n",
    "            self.input_size, 128, bias=True, weight_bit_width=2)\n",
    "        self.fc2 = qnn.QuantLinear(512, 128, bias=True, weight_bit_width=2)\n",
    "        self.fc3 = qnn.QuantLinear(128, 64, bias=True, weight_bit_width=2)\n",
    "        self.fc_out = qnn.QuantLinear(\n",
    "            64, output_size, bias=False, weight_bit_width=2)"
   ]
  },
  {
   "cell_type": "code",
   "execution_count": null,
   "metadata": {},
   "outputs": [],
   "source": [
    "def forward(self, x):\n",
    "    a, b, c, d = torch.split(x, self.input_size, -1)\n",
    "    a = self.fc1a(a)\n",
    "    a = self.relu(a)\n",
    "\n",
    "    b = self.fc1b(b)\n",
    "    b = self.relu(b)\n",
    "\n",
    "    c = self.fc1a(c)\n",
    "    c = self.relu(c)\n",
    "\n",
    "    d = self.fc1b(d)\n",
    "    d = self.relu(d)\n",
    "\n",
    "    x = torch.cat((a, b, c, d), -1)\n",
    "\n",
    "    x = self.fc2(x)\n",
    "    x = self.relu(x)\n",
    "\n",
    "    x = self.fc3(x)\n",
    "    x = self.relu(x)\n",
    "\n",
    "    out = self.fc_out(x)\n",
    "\n",
    "    return out"
   ]
  },
  {
   "cell_type": "code",
   "execution_count": null,
   "metadata": {},
   "outputs": [],
   "source": [
    "def infer_data(samples):\n",
    "    window = []\n",
    "    for i, l in enumerate(samples):\n",
    "        x = np.array(l)\n",
    "        x = np.nan_to_num(x)\n",
    "        x = x.reshape(1, -1)\n",
    "        x = transformer[i].transform(x)\n",
    "        for value in x[0]:\n",
    "            window.append(value)\n",
    "    window = torch.tensor(window, dtype=torch.float32)\n",
    "    with torch.no_grad():\n",
    "        out = model(window)\n",
    "        out = m(out)\n",
    "    # print(f\"Confidence: {out}\")\n",
    "    maxConfidence = out[np.argmax(out).item()]\n",
    "    if(maxConfidence > 0.85):\n",
    "        return [moves_dict[np.argmax(out).item()], maxConfidence]\n",
    "    else:\n",
    "        return [\"NoMatch\", maxConfidence]"
   ]
  }
 ],
 "metadata": {
  "kernelspec": {
   "display_name": "Python 3",
   "language": "python",
   "name": "python3"
  },
  "language_info": {
   "codemirror_mode": {
    "name": "ipython",
    "version": 3
   },
   "file_extension": ".py",
   "mimetype": "text/x-python",
   "name": "python",
   "nbconvert_exporter": "python",
   "pygments_lexer": "ipython3",
   "version": "3.7.6"
  }
 },
 "nbformat": 4,
 "nbformat_minor": 4
}
